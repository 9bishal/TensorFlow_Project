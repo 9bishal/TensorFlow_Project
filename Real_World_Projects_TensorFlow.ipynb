{
  "nbformat": 4,
  "nbformat_minor": 0,
  "metadata": {
    "colab": {
      "provenance": [],
      "authorship_tag": "ABX9TyPFlBDykIejsOHjXD6VrJJN",
      "include_colab_link": true
    },
    "kernelspec": {
      "name": "python3",
      "display_name": "Python 3"
    },
    "language_info": {
      "name": "python"
    }
  },
  "cells": [
    {
      "cell_type": "markdown",
      "metadata": {
        "id": "view-in-github",
        "colab_type": "text"
      },
      "source": [
        "<a href=\"https://colab.research.google.com/github/9bishal/TensorFlow_Project/blob/main/Real_World_Projects_TensorFlow.ipynb\" target=\"_parent\"><img src=\"https://colab.research.google.com/assets/colab-badge.svg\" alt=\"Open In Colab\"/></a>"
      ]
    },
    {
      "cell_type": "markdown",
      "source": [
        "###Here is TensorFlow model for predicting ouse price based on Square Footage\n",
        "1.DataSet Preperation: SquareFootage (x_train) vs. house price(y_train).\n",
        "\n",
        "2.Model Creation: A simple dense eural network with 1 layers.\n",
        "\n",
        "3.Model training: Using Mean Squared Error(mse) as the loss function.\n",
        "\n",
        "4.Prediction & Visualization: Using Matplotlib to plot results\n"
      ],
      "metadata": {
        "id": "bKUYk4uuQhqJ"
      }
    },
    {
      "cell_type": "markdown",
      "source": [
        "##Code Implementation"
      ],
      "metadata": {
        "id": "TwnvtnGqQxvH"
      }
    },
    {
      "cell_type": "code",
      "source": [
        "import matplotlib.pyplot as plt\n",
        "import numpy as np\n",
        "import tensorflow as tf\n",
        "\n",
        "#Prepare Data set: Square footage (x), and the price of house as (y)\n",
        "x_train=np.array([800, 1000, 1200, 1500, 1800, 2000, 2300, 2600, 3000 ], dtype=np.float32)\n",
        "y_train=np.array([120, 150, 180, 225, 270, 300, 345, 390, 450], dtype=np.float32)  # Prices in $1000s\n",
        "\n",
        "x_test=np.array([850, 1250, 1750, 2200,2800 ], dtype=np.float32)\n",
        "y_test=np.array([1350, 190, 265, 335, 420], dtype=np.float32)"
      ],
      "metadata": {
        "id": "_L651_6XTEs4"
      },
      "execution_count": 24,
      "outputs": []
    },
    {
      "cell_type": "markdown",
      "source": [
        "###Building a Model"
      ],
      "metadata": {
        "id": "sZPrQl6YU-bN"
      }
    },
    {
      "cell_type": "code",
      "source": [
        "#1. Build a simple neural network model\n",
        "model=tf.keras.Sequential([\n",
        "    tf.keras.layers.Dense(1,input_shape=(1,)) #single layesr with 1 neuron for regressioin\n",
        "])\n",
        "\n",
        "#2. Compile the model\n",
        "model.compile (loss=tf.keras.losses.MeanSquaredError(),\n",
        "               optimizer=tf.keras.optimizers.Adam(learning_rate=0.01))\n",
        "#3. Train the model\n",
        "model.fit(x_train, y_train, epochs=500, verbose=0)"
      ],
      "metadata": {
        "id": "HCk2ukm2VPwG",
        "outputId": "00cda5a8-17c9-4e4e-ae67-80eb8a2d1def",
        "colab": {
          "base_uri": "https://localhost:8080/"
        }
      },
      "execution_count": 10,
      "outputs": [
        {
          "output_type": "stream",
          "name": "stderr",
          "text": [
            "/usr/local/lib/python3.11/dist-packages/keras/src/layers/core/dense.py:87: UserWarning: Do not pass an `input_shape`/`input_dim` argument to a layer. When using Sequential models, prefer using an `Input(shape)` object as the first layer in the model instead.\n",
            "  super().__init__(activity_regularizer=activity_regularizer, **kwargs)\n"
          ]
        },
        {
          "output_type": "execute_result",
          "data": {
            "text/plain": [
              "<keras.src.callbacks.history.History at 0x7a7f441830d0>"
            ]
          },
          "metadata": {},
          "execution_count": 10
        }
      ]
    },
    {
      "cell_type": "markdown",
      "source": [],
      "metadata": {
        "id": "JotfeAh4x3iO"
      }
    },
    {
      "cell_type": "code",
      "source": [
        "#Making the prediction\n",
        "y_pred=model.predict(x_test)\n",
        "y_pred"
      ],
      "metadata": {
        "id": "S9es-6agYNhh",
        "outputId": "30688a38-0ded-4ae9-a966-522de98cab07",
        "colab": {
          "base_uri": "https://localhost:8080/"
        }
      },
      "execution_count": 11,
      "outputs": [
        {
          "output_type": "stream",
          "name": "stdout",
          "text": [
            "\u001b[1m1/1\u001b[0m \u001b[32m━━━━━━━━━━━━━━━━━━━━\u001b[0m\u001b[37m\u001b[0m \u001b[1m0s\u001b[0m 69ms/step\n"
          ]
        },
        {
          "output_type": "execute_result",
          "data": {
            "text/plain": [
              "array([[127.61052],\n",
              "       [187.57443],\n",
              "       [262.52933],\n",
              "       [329.98874],\n",
              "       [419.9346 ]], dtype=float32)"
            ]
          },
          "metadata": {},
          "execution_count": 11
        }
      ]
    },
    {
      "cell_type": "markdown",
      "source": [
        "###Plotting the result"
      ],
      "metadata": {
        "id": "PywBcJHHWh5c"
      }
    },
    {
      "cell_type": "code",
      "source": [
        "def plot_predictions(train_data, train_labels, test_data, test_labels, predictions):\n",
        "    plt.figure(figsize=(10,7))\n",
        "\n",
        "    # Plot training data in blue\n",
        "    plt.scatter(train_data, train_labels, color=\"blue\", label=\"Training Data\")\n",
        "\n",
        "    # Plot testing data in green\n",
        "    plt.scatter(test_data, test_labels, color=\"green\", label=\"Testing Data\")\n",
        "\n",
        "    # Plot predictions in red\n",
        "    plt.scatter(test_data, predictions, color=\"red\", label=\"Predictions\")\n",
        "\n",
        "    # Show legends and labels\n",
        "    plt.legend()\n",
        "    plt.xlabel(\"Square Footage\")\n",
        "    plt.ylabel(\"Price ($1000s)\")\n",
        "    plt.title(\"House Price Prediction\")\n",
        "    plt.show()\n",
        "\n",
        "# Call the function to visualize results\n",
        "plot_predictions(x_train, y_train, x_test, y_test, y_pred)\n"
      ],
      "metadata": {
        "id": "2efN-uLzYr1P",
        "outputId": "befd3b09-92d7-4f23-d992-8a543d3c4864",
        "colab": {
          "base_uri": "https://localhost:8080/",
          "height": 641
        }
      },
      "execution_count": 18,
      "outputs": [
        {
          "output_type": "display_data",
          "data": {
            "text/plain": [
              "<Figure size 1000x700 with 1 Axes>"
            ],
            "image/png": "[encoded data removed]"
          },
          "metadata": {}
        }
      ]
    },
    {
      "cell_type": "markdown",
      "source": [],
      "metadata": {
        "id": "jOSw2mrZx5A-"
      }
    },
    {
      "cell_type": "code",
      "source": [
        "tf.random.set_seed(42)\n",
        "x_train = np.random.rand(100, 3) * [2000, 5, 10]"
      ],
      "metadata": {
        "id": "_WNOn0fRx5gR"
      },
      "execution_count": 32,
      "outputs": []
    },
    {
      "cell_type": "code",
      "source": [
        "x_train"
      ],
      "metadata": {
        "id": "f6IHucrBx5_1",
        "outputId": "db69af46-9ce5-4205-af42-5e0cb50e4cf9",
        "colab": {
          "base_uri": "https://localhost:8080/"
        }
      },
      "execution_count": 33,
      "outputs": [
        {
          "output_type": "execute_result",
          "data": {
            "text/plain": [
              "array([[6.10412049e+01, 7.71097559e-01, 3.04099166e+00],\n",
              "       [5.56979352e+02, 2.39922860e+00, 8.04159352e+00],\n",
              "       [1.93963072e+03, 2.33371790e-01, 5.11554719e+00],\n",
              "       [2.64993198e+02, 4.95543036e+00, 5.54272226e+00],\n",
              "       [1.98132718e+03, 1.91894953e+00, 3.74590937e+00],\n",
              "       [1.89878139e+03, 1.08705043e+00, 6.77824471e+00],\n",
              "       [1.64771213e+03, 4.97086194e-01, 2.42268858e+00],\n",
              "       [3.56726788e+02, 1.29401830e+00, 7.11739986e+00],\n",
              "       [3.05209644e+02, 4.81178762e+00, 7.68852618e+00],\n",
              "       [1.18301972e+03, 3.99350186e+00, 5.96134567e+00],\n",
              "       [2.78954776e+02, 1.78930438e+00, 3.05293017e+00],\n",
              "       [1.46603568e+03, 3.23514815e+00, 9.89083063e+00],\n",
              "       [7.11575487e+01, 4.31912292e+00, 3.09074393e+00],\n",
              "       [1.02381927e+03, 3.46423844e+00, 6.24431118e+00],\n",
              "       [1.66618244e+03, 2.82013512e+00, 5.08624986e+00],\n",
              "       [3.68965504e+02, 4.08082190e+00, 1.03969093e+00],\n",
              "       [1.10829366e+03, 1.11706331e+00, 5.31430721e+00],\n",
              "       [5.87704140e+02, 4.06868966e+00, 6.84086492e+00],\n",
              "       [1.51812895e+03, 4.02926583e+00, 1.23227717e+00],\n",
              "       [1.32800826e+03, 2.33794472e+00, 9.28015526e+00],\n",
              "       [3.66787870e+02, 2.51241365e+00, 5.61308909e-02],\n",
              "       [1.74753177e+03, 3.63672954e+00, 9.80315356e+00],\n",
              "       [1.67194310e+03, 2.05178730e+00, 5.38200593e+00],\n",
              "       [1.52295113e+02, 3.61797233e+00, 2.19553888e+00],\n",
              "       [5.67861666e+02, 2.06628088e+00, 9.19387155e+00],\n",
              "       [3.25721174e+02, 3.12406540e+00, 1.43066697e+00],\n",
              "       [9.95088192e+02, 3.41040598e+00, 7.96313809e+00],\n",
              "       [1.92788829e+03, 1.48336668e+00, 2.56955234e+00],\n",
              "       [6.87711627e+02, 4.50745631e-01, 4.29636100e+00],\n",
              "       [1.29185742e+03, 2.33262985e+00, 3.30631944e+00],\n",
              "       [1.65112940e+03, 4.13922864e+00, 2.21162782e+00],\n",
              "       [5.83882045e+02, 5.37112637e-01, 5.23852393e+00],\n",
              "       [9.16369381e+02, 2.21001578e+00, 5.06814644e+00],\n",
              "       [1.13672517e+02, 3.85202576e+00, 1.71829734e+00],\n",
              "       [3.80666270e+02, 3.19472210e+00, 9.55124008e+00],\n",
              "       [2.93470561e+02, 4.19811815e+00, 9.85037063e+00],\n",
              "       [1.52796464e+03, 3.06132607e+00, 7.43965536e+00],\n",
              "       [1.31959382e+03, 1.73453200e+00, 8.88277872e+00],\n",
              "       [1.23865381e+02, 4.87441617e+00, 4.40117276e+00],\n",
              "       [1.96100648e+03, 1.61340674e+00, 3.54173610e-02],\n",
              "       [5.14047726e+02, 2.19516277e+00, 8.52505736e+00],\n",
              "       [4.33993248e+02, 1.09451232e+00, 3.62822404e+00],\n",
              "       [4.62895286e+02, 3.05980756e-01, 6.13136259e-01],\n",
              "       [1.22670344e+03, 5.37162788e-01, 7.15988775e+00],\n",
              "       [5.91630991e+02, 1.72585490e+00, 4.86901939e+00],\n",
              "       [1.02583535e+03, 3.83359727e+00, 1.86289964e+00],\n",
              "       [1.57461790e+03, 3.51423238e+00, 8.78875475e+00],\n",
              "       [1.46488182e+03, 2.45202100e+00, 9.73132657e+00],\n",
              "       [1.72380316e+03, 3.79824114e+00, 4.73098619e+00],\n",
              "       [6.23774020e+02, 4.98825540e+00, 4.31234738e+00],\n",
              "       [2.81898082e+02, 3.69694074e+00, 8.46024381e+00],\n",
              "       [5.99307032e+02, 1.88625710e+00, 2.33554815e+00],\n",
              "       [8.05955184e+02, 3.38686909e+00, 8.04960891e+00],\n",
              "       [5.42007033e+02, 2.53104877e+00, 4.42646348e+00],\n",
              "       [1.59626710e+03, 4.27902707e+00, 9.62260489e-01],\n",
              "       [2.16474756e+01, 1.09599125e+00, 8.79426236e+00],\n",
              "       [8.51621060e+01, 1.25881370e+00, 6.46380570e+00],\n",
              "       [7.77839900e+02, 2.31099840e+00, 1.24365278e-01],\n",
              "       [1.72418913e+03, 4.68436233e+00, 1.04338763e-01],\n",
              "       [7.43336027e+02, 4.10573852e+00, 9.29222025e+00],\n",
              "       [1.40593868e+03, 1.22033183e+00, 1.29448346e-01],\n",
              "       [1.42762437e+02, 4.45200661e+00, 5.96310867e+00],\n",
              "       [3.95804717e+02, 2.51961898e+00, 2.75476256e+00],\n",
              "       [2.85016558e+02, 2.87349069e+00, 5.90338974e+00],\n",
              "       [5.79935780e+02, 3.79656080e+00, 3.37519973e+00],\n",
              "       [1.62116589e+03, 6.35685790e-01, 4.82172486e+00],\n",
              "       [8.82537933e+02, 3.76498590e+00, 5.61559700e+00],\n",
              "       [5.33271542e+02, 1.94690784e-01, 5.01226826e+00],\n",
              "       [1.31725342e+03, 3.36613719e+00, 4.84272206e+00],\n",
              "       [6.39130943e+02, 4.65090923e-01, 7.68041033e+00],\n",
              "       [6.74872485e+02, 1.24879191e+00, 2.14809265e+00],\n",
              "       [1.79813274e+03, 2.33394220e+00, 1.01394507e+00],\n",
              "       [5.20523422e+02, 2.85767444e+00, 9.00568542e+00],\n",
              "       [1.98575735e+02, 3.06111215e+00, 9.29712290e+00],\n",
              "       [1.32541407e+03, 1.69331666e+00, 7.18953872e+00],\n",
              "       [1.62500716e+03, 1.62224502e+00, 1.02303287e+00],\n",
              "       [1.56408223e+03, 3.72043885e+00, 4.76729578e+00],\n",
              "       [1.32541673e+03, 5.42470866e-01, 6.74094023e+00],\n",
              "       [1.95306799e+03, 4.82579919e+00, 6.10808453e+00],\n",
              "       [1.90374677e+03, 3.52029480e+00, 9.08876427e-01],\n",
              "       [4.87620341e+02, 3.27210772e+00, 3.53608639e+00],\n",
              "       [2.58194930e+02, 2.81903915e+00, 7.81403484e+00],\n",
              "       [9.29071435e+02, 2.62785642e+00, 4.84076019e+00],\n",
              "       [1.63312295e+03, 2.36161217e+00, 5.37209597e+00],\n",
              "       [1.35896876e+03, 2.89153705e+00, 7.24296786e+00],\n",
              "       [1.43511896e+03, 3.48191719e+00, 1.38292627e+00],\n",
              "       [5.39331868e+02, 4.67610993e+00, 7.77285702e+00],\n",
              "       [4.44838960e+02, 4.15484656e+00, 1.06738254e+00],\n",
              "       [8.38860235e+02, 2.47611909e+00, 4.62928425e+00],\n",
              "       [1.99393297e+03, 3.43357791e+00, 7.18987489e+00],\n",
              "       [1.90109321e+02, 3.64943900e+00, 8.00529804e-02],\n",
              "       [1.46667430e+03, 4.09720396e+00, 9.10393449e+00],\n",
              "       [1.05377384e+03, 2.98189387e+00, 6.16487734e+00],\n",
              "       [1.15717914e+02, 1.96101876e+00, 9.32343252e+00],\n",
              "       [3.15389905e+02, 2.43183290e+00, 5.69389901e+00],\n",
              "       [4.49537137e+02, 3.81519098e+00, 2.17830086e+00],\n",
              "       [8.58701550e+02, 4.44104314e+00, 5.84891722e+00],\n",
              "       [6.47147838e+02, 8.75761236e-01, 1.14881537e+00],\n",
              "       [1.12665591e+03, 4.94340393e+00, 8.83554342e+00],\n",
              "       [1.09837900e+03, 1.69242245e+00, 4.25487824e+00]])"
            ]
          },
          "metadata": {},
          "execution_count": 33
        }
      ]
    },
    {
      "cell_type": "code",
      "source": [
        "y_train = x_train[:, 0] * 0.3 + x_train[:, 1] * 50 + x_train[:, 2] * 100 + np.random.randn(100) * 100  # House prices"
      ],
      "metadata": {
        "id": "PFLCGrsnx8Mr"
      },
      "execution_count": 35,
      "outputs": []
    },
    {
      "cell_type": "code",
      "source": [
        "y_train"
      ],
      "metadata": {
        "id": "0Jqv5FYiywIb",
        "outputId": "ee0e65d6-c8b3-45a7-a53a-b80e3b2ccf47",
        "colab": {
          "base_uri": "https://localhost:8080/"
        }
      },
      "execution_count": 36,
      "outputs": [
        {
          "output_type": "execute_result",
          "data": {
            "text/plain": [
              "array([ 363.43317904, 1025.86702196, 1157.12696126,  903.75251365,\n",
              "       1192.51640474, 1396.89299303,  705.21767033,  797.24847468,\n",
              "       1293.85515769, 1181.52110597,  225.32370027, 1638.12429868,\n",
              "        464.82406699, 1005.39040943,  953.82005774,  391.45799095,\n",
              "        784.09132704, 1187.71959073,  758.89699323, 1281.36745935,\n",
              "        103.44113098, 1585.37514562, 1242.49248052,  410.38301265,\n",
              "       1215.64747412,  452.76165411, 1259.72013936,  974.32060204,\n",
              "        692.13409434,  791.66183447,  879.33044563,  596.5211689 ,\n",
              "        866.89575478,  518.90891287, 1301.33200026, 1264.93487812,\n",
              "       1259.3258471 , 1436.00051412,  722.34722751,  564.4371332 ,\n",
              "       1169.02234778,  409.72370375,   16.73118198, 1193.50479042,\n",
              "       1038.03889404,  565.55432941, 1571.77496604, 1303.97609282,\n",
              "       1171.67552318,  871.57860804,  917.43247699,  592.3357245 ,\n",
              "       1347.4602968 ,  700.26363649,  819.78129025,  964.99053443,\n",
              "        848.69040525,  428.33060943,  724.78004284, 1275.83769877,\n",
              "        590.43922206,  891.96858051,  445.18617074,  811.0195826 ,\n",
              "        761.33902379, 1085.27348263, 1134.04285263,  768.68011846,\n",
              "        839.01619901,  966.39141674,  467.48734491,  692.8370454 ,\n",
              "       1179.63407168, 1187.31773435, 1349.44745609,  683.35479501,\n",
              "       1212.56167067, 1075.55372469, 1417.03139215,  703.58063639,\n",
              "        639.06393745, 1022.83003291,  863.89317216, 1023.80131454,\n",
              "       1283.45863556,  672.22291091, 1091.94124677,  402.04712452,\n",
              "        857.85460973, 1530.69783311,  358.1962448 , 1633.26386596,\n",
              "       1179.2600324 , 1035.05834007,  970.00653544,  509.03558952,\n",
              "       1248.03633683,  400.97011625, 1357.5287635 ,  817.2108668 ])"
            ]
          },
          "metadata": {},
          "execution_count": 36
        }
      ]
    },
    {
      "cell_type": "markdown",
      "source": [
        "###Adding three fetures of house like sq. foot, bedroom and locatioin"
      ],
      "metadata": {
        "id": "PyeBaQQ5y5oJ"
      }
    },
    {
      "cell_type": "code",
      "source": [
        "import numpy as np\n",
        "import tensorflow as tf\n",
        "import matplotlib.pyplot as plt\n",
        "\n",
        "# Generating synthetic house data\n",
        "np.random.seed(42)\n",
        "x_train = np.random.rand(100, 3) * [2000, 5, 10]  # [sqft, num_bedrooms, location_rating]\n",
        "y_train = x_train[:, 0] * 0.3 + x_train[:, 1] * 50 + x_train[:, 2] * 100 + np.random.randn(100) * 100  # House prices\n",
        "\n",
        "x_test = np.random.rand(20, 3) * [2000, 5, 10]\n",
        "y_test = x_test[:, 0] * 0.3 + x_test[:, 1] * 50 + x_test[:, 2] * 100 + np.random.randn(20) * 100\n"
      ],
      "metadata": {
        "id": "vhkhu7J402eL"
      },
      "execution_count": 39,
      "outputs": []
    },
    {
      "cell_type": "code",
      "source": [
        "# 1. Build the model\n",
        "model = tf.keras.Sequential([\n",
        "    tf.keras.layers.Dense(16, activation='relu', input_shape=(3,)),  # 3 features\n",
        "    tf.keras.layers.Dense(8, activation='relu'),\n",
        "    tf.keras.layers.Dense(1)  # Output layer\n",
        "])\n",
        "\n",
        "# 2. Compile the model\n",
        "model.compile(loss=tf.keras.losses.MeanSquaredError(),\n",
        "              optimizer=tf.keras.optimizers.Adam(learning_rate=0.01))\n",
        "\n",
        "# 3. Add Early Stopping\n",
        "early_stopping = tf.keras.callbacks.EarlyStopping(monitor='loss', patience=10)\n",
        "\n",
        "# 4. Train the model\n",
        "history = model.fit(x_train, y_train, epochs=500, verbose=1, callbacks=[early_stopping])\n"
      ],
      "metadata": {
        "id": "pv6yabEi8yC6",
        "outputId": "c8f5f1e3-d008-450b-abe6-f0fcb384fd1c",
        "colab": {
          "base_uri": "https://localhost:8080/"
        }
      },
      "execution_count": 64,
      "outputs": [
        {
          "output_type": "stream",
          "name": "stdout",
          "text": [
            "Epoch 1/500\n",
            "\u001b[1m4/4\u001b[0m \u001b[32m━━━━━━━━━━━━━━━━━━━━\u001b[0m\u001b[37m\u001b[0m \u001b[1m2s\u001b[0m 16ms/step - loss: 892106.1875\n",
            "Epoch 2/500\n",
            "\u001b[1m4/4\u001b[0m \u001b[32m━━━━━━━━━━━━━━━━━━━━\u001b[0m\u001b[37m\u001b[0m \u001b[1m0s\u001b[0m 26ms/step - loss: 701537.5000\n",
            "Epoch 3/500\n",
            "\u001b[1m4/4\u001b[0m \u001b[32m━━━━━━━━━━━━━━━━━━━━\u001b[0m\u001b[37m\u001b[0m \u001b[1m0s\u001b[0m 20ms/step - loss: 546565.0625\n",
            "Epoch 4/500\n",
            "\u001b[1m4/4\u001b[0m \u001b[32m━━━━━━━━━━━━━━━━━━━━\u001b[0m\u001b[37m\u001b[0m \u001b[1m0s\u001b[0m 17ms/step - loss: 402494.3125\n",
            "Epoch 5/500\n",
            "\u001b[1m4/4\u001b[0m \u001b[32m━━━━━━━━━━━━━━━━━━━━\u001b[0m\u001b[37m\u001b[0m \u001b[1m0s\u001b[0m 15ms/step - loss: 276216.1562\n",
            "Epoch 6/500\n",
            "\u001b[1m4/4\u001b[0m \u001b[32m━━━━━━━━━━━━━━━━━━━━\u001b[0m\u001b[37m\u001b[0m \u001b[1m0s\u001b[0m 12ms/step - loss: 204435.9219\n",
            "Epoch 7/500\n",
            "\u001b[1m4/4\u001b[0m \u001b[32m━━━━━━━━━━━━━━━━━━━━\u001b[0m\u001b[37m\u001b[0m \u001b[1m0s\u001b[0m 16ms/step - loss: 237432.8906 \n",
            "Epoch 8/500\n",
            "\u001b[1m4/4\u001b[0m \u001b[32m━━━━━━━━━━━━━━━━━━━━\u001b[0m\u001b[37m\u001b[0m \u001b[1m0s\u001b[0m 13ms/step - loss: 273936.9688\n",
            "Epoch 9/500\n",
            "\u001b[1m4/4\u001b[0m \u001b[32m━━━━━━━━━━━━━━━━━━━━\u001b[0m\u001b[37m\u001b[0m \u001b[1m0s\u001b[0m 12ms/step - loss: 250027.9375 \n",
            "Epoch 10/500\n",
            "\u001b[1m4/4\u001b[0m \u001b[32m━━━━━━━━━━━━━━━━━━━━\u001b[0m\u001b[37m\u001b[0m \u001b[1m0s\u001b[0m 13ms/step - loss: 216666.9375\n",
            "Epoch 11/500\n",
            "\u001b[1m4/4\u001b[0m \u001b[32m━━━━━━━━━━━━━━━━━━━━\u001b[0m\u001b[37m\u001b[0m \u001b[1m0s\u001b[0m 11ms/step - loss: 202118.0781\n",
            "Epoch 12/500\n",
            "\u001b[1m4/4\u001b[0m \u001b[32m━━━━━━━━━━━━━━━━━━━━\u001b[0m\u001b[37m\u001b[0m \u001b[1m0s\u001b[0m 11ms/step - loss: 198941.3438\n",
            "Epoch 13/500\n",
            "\u001b[1m4/4\u001b[0m \u001b[32m━━━━━━━━━━━━━━━━━━━━\u001b[0m\u001b[37m\u001b[0m \u001b[1m0s\u001b[0m 12ms/step - loss: 198351.5938\n",
            "Epoch 14/500\n",
            "\u001b[1m4/4\u001b[0m \u001b[32m━━━━━━━━━━━━━━━━━━━━\u001b[0m\u001b[37m\u001b[0m \u001b[1m0s\u001b[0m 11ms/step - loss: 199455.9062\n",
            "Epoch 15/500\n",
            "\u001b[1m4/4\u001b[0m \u001b[32m━━━━━━━━━━━━━━━━━━━━\u001b[0m\u001b[37m\u001b[0m \u001b[1m0s\u001b[0m 14ms/step - loss: 202497.9219\n",
            "Epoch 16/500\n",
            "\u001b[1m4/4\u001b[0m \u001b[32m━━━━━━━━━━━━━━━━━━━━\u001b[0m\u001b[37m\u001b[0m \u001b[1m0s\u001b[0m 16ms/step - loss: 204747.4688\n",
            "Epoch 17/500\n",
            "\u001b[1m4/4\u001b[0m \u001b[32m━━━━━━━━━━━━━━━━━━━━\u001b[0m\u001b[37m\u001b[0m \u001b[1m0s\u001b[0m 16ms/step - loss: 204076.0312\n",
            "Epoch 18/500\n",
            "\u001b[1m4/4\u001b[0m \u001b[32m━━━━━━━━━━━━━━━━━━━━\u001b[0m\u001b[37m\u001b[0m \u001b[1m0s\u001b[0m 12ms/step - loss: 201565.3438\n",
            "Epoch 19/500\n",
            "\u001b[1m4/4\u001b[0m \u001b[32m━━━━━━━━━━━━━━━━━━━━\u001b[0m\u001b[37m\u001b[0m \u001b[1m0s\u001b[0m 11ms/step - loss: 199177.2031\n",
            "Epoch 20/500\n",
            "\u001b[1m4/4\u001b[0m \u001b[32m━━━━━━━━━━━━━━━━━━━━\u001b[0m\u001b[37m\u001b[0m \u001b[1m0s\u001b[0m 10ms/step - loss: 197744.2969\n",
            "Epoch 21/500\n",
            "\u001b[1m4/4\u001b[0m \u001b[32m━━━━━━━━━━━━━━━━━━━━\u001b[0m\u001b[37m\u001b[0m \u001b[1m0s\u001b[0m 12ms/step - loss: 197215.1094\n",
            "Epoch 22/500\n",
            "\u001b[1m4/4\u001b[0m \u001b[32m━━━━━━━━━━━━━━━━━━━━\u001b[0m\u001b[37m\u001b[0m \u001b[1m0s\u001b[0m 12ms/step - loss: 197250.9219\n",
            "Epoch 23/500\n",
            "\u001b[1m4/4\u001b[0m \u001b[32m━━━━━━━━━━━━━━━━━━━━\u001b[0m\u001b[37m\u001b[0m \u001b[1m0s\u001b[0m 10ms/step - loss: 197363.6875 \n",
            "Epoch 24/500\n",
            "\u001b[1m4/4\u001b[0m \u001b[32m━━━━━━━━━━━━━━━━━━━━\u001b[0m\u001b[37m\u001b[0m \u001b[1m0s\u001b[0m 10ms/step - loss: 197091.9844\n",
            "Epoch 25/500\n",
            "\u001b[1m4/4\u001b[0m \u001b[32m━━━━━━━━━━━━━━━━━━━━\u001b[0m\u001b[37m\u001b[0m \u001b[1m0s\u001b[0m 12ms/step - loss: 196304.0781\n",
            "Epoch 26/500\n",
            "\u001b[1m4/4\u001b[0m \u001b[32m━━━━━━━━━━━━━━━━━━━━\u001b[0m\u001b[37m\u001b[0m \u001b[1m0s\u001b[0m 11ms/step - loss: 195223.2656\n",
            "Epoch 27/500\n",
            "\u001b[1m4/4\u001b[0m \u001b[32m━━━━━━━━━━━━━━━━━━━━\u001b[0m\u001b[37m\u001b[0m \u001b[1m0s\u001b[0m 18ms/step - loss: 194158.1094\n",
            "Epoch 28/500\n",
            "\u001b[1m4/4\u001b[0m \u001b[32m━━━━━━━━━━━━━━━━━━━━\u001b[0m\u001b[37m\u001b[0m \u001b[1m0s\u001b[0m 14ms/step - loss: 193278.3125\n",
            "Epoch 29/500\n",
            "\u001b[1m4/4\u001b[0m \u001b[32m━━━━━━━━━━━━━━━━━━━━\u001b[0m\u001b[37m\u001b[0m \u001b[1m0s\u001b[0m 15ms/step - loss: 192576.4688\n",
            "Epoch 30/500\n",
            "\u001b[1m4/4\u001b[0m \u001b[32m━━━━━━━━━━━━━━━━━━━━\u001b[0m\u001b[37m\u001b[0m \u001b[1m0s\u001b[0m 15ms/step - loss: 191932.3125\n",
            "Epoch 31/500\n",
            "\u001b[1m4/4\u001b[0m \u001b[32m━━━━━━━━━━━━━━━━━━━━\u001b[0m\u001b[37m\u001b[0m \u001b[1m0s\u001b[0m 12ms/step - loss: 191206.5469\n",
            "Epoch 32/500\n",
            "\u001b[1m4/4\u001b[0m \u001b[32m━━━━━━━━━━━━━━━━━━━━\u001b[0m\u001b[37m\u001b[0m \u001b[1m0s\u001b[0m 11ms/step - loss: 190327.6094 \n",
            "Epoch 33/500\n",
            "\u001b[1m4/4\u001b[0m \u001b[32m━━━━━━━━━━━━━━━━━━━━\u001b[0m\u001b[37m\u001b[0m \u001b[1m0s\u001b[0m 12ms/step - loss: 189318.5938 \n",
            "Epoch 34/500\n",
            "\u001b[1m4/4\u001b[0m \u001b[32m━━━━━━━━━━━━━━━━━━━━\u001b[0m\u001b[37m\u001b[0m \u001b[1m0s\u001b[0m 11ms/step - loss: 188252.2812\n",
            "Epoch 35/500\n",
            "\u001b[1m4/4\u001b[0m \u001b[32m━━━━━━━━━━━━━━━━━━━━\u001b[0m\u001b[37m\u001b[0m \u001b[1m0s\u001b[0m 12ms/step - loss: 187185.5781\n",
            "Epoch 36/500\n",
            "\u001b[1m4/4\u001b[0m \u001b[32m━━━━━━━━━━━━━━━━━━━━\u001b[0m\u001b[37m\u001b[0m \u001b[1m0s\u001b[0m 16ms/step - loss: 186125.0156\n",
            "Epoch 37/500\n",
            "\u001b[1m4/4\u001b[0m \u001b[32m━━━━━━━━━━━━━━━━━━━━\u001b[0m\u001b[37m\u001b[0m \u001b[1m0s\u001b[0m 14ms/step - loss: 185035.2031\n",
            "Epoch 38/500\n",
            "\u001b[1m4/4\u001b[0m \u001b[32m━━━━━━━━━━━━━━━━━━━━\u001b[0m\u001b[37m\u001b[0m \u001b[1m0s\u001b[0m 14ms/step - loss: 183871.3125\n",
            "Epoch 39/500\n",
            "\u001b[1m4/4\u001b[0m \u001b[32m━━━━━━━━━━━━━━━━━━━━\u001b[0m\u001b[37m\u001b[0m \u001b[1m0s\u001b[0m 13ms/step - loss: 182609.7812\n",
            "Epoch 40/500\n",
            "\u001b[1m4/4\u001b[0m \u001b[32m━━━━━━━━━━━━━━━━━━━━\u001b[0m\u001b[37m\u001b[0m \u001b[1m0s\u001b[0m 12ms/step - loss: 181256.1719 \n",
            "Epoch 41/500\n",
            "\u001b[1m4/4\u001b[0m \u001b[32m━━━━━━━━━━━━━━━━━━━━\u001b[0m\u001b[37m\u001b[0m \u001b[1m0s\u001b[0m 12ms/step - loss: 179826.8594\n",
            "Epoch 42/500\n",
            "\u001b[1m4/4\u001b[0m \u001b[32m━━━━━━━━━━━━━━━━━━━━\u001b[0m\u001b[37m\u001b[0m \u001b[1m0s\u001b[0m 13ms/step - loss: 178331.6094\n",
            "Epoch 43/500\n",
            "\u001b[1m4/4\u001b[0m \u001b[32m━━━━━━━━━━━━━━━━━━━━\u001b[0m\u001b[37m\u001b[0m \u001b[1m0s\u001b[0m 12ms/step - loss: 176761.0938\n",
            "Epoch 44/500\n",
            "\u001b[1m4/4\u001b[0m \u001b[32m━━━━━━━━━━━━━━━━━━━━\u001b[0m\u001b[37m\u001b[0m \u001b[1m0s\u001b[0m 11ms/step - loss: 175094.9062 \n",
            "Epoch 45/500\n",
            "\u001b[1m4/4\u001b[0m \u001b[32m━━━━━━━━━━━━━━━━━━━━\u001b[0m\u001b[37m\u001b[0m \u001b[1m0s\u001b[0m 11ms/step - loss: 173315.5156\n",
            "Epoch 46/500\n",
            "\u001b[1m4/4\u001b[0m \u001b[32m━━━━━━━━━━━━━━━━━━━━\u001b[0m\u001b[37m\u001b[0m \u001b[1m0s\u001b[0m 17ms/step - loss: 171416.2031\n",
            "Epoch 47/500\n",
            "\u001b[1m4/4\u001b[0m \u001b[32m━━━━━━━━━━━━━━━━━━━━\u001b[0m\u001b[37m\u001b[0m \u001b[1m0s\u001b[0m 14ms/step - loss: 169397.1562\n",
            "Epoch 48/500\n",
            "\u001b[1m4/4\u001b[0m \u001b[32m━━━━━━━━━━━━━━━━━━━━\u001b[0m\u001b[37m\u001b[0m \u001b[1m0s\u001b[0m 14ms/step - loss: 167255.7031\n",
            "Epoch 49/500\n",
            "\u001b[1m4/4\u001b[0m \u001b[32m━━━━━━━━━━━━━━━━━━━━\u001b[0m\u001b[37m\u001b[0m \u001b[1m0s\u001b[0m 13ms/step - loss: 164979.6562\n",
            "Epoch 50/500\n",
            "\u001b[1m4/4\u001b[0m \u001b[32m━━━━━━━━━━━━━━━━━━━━\u001b[0m\u001b[37m\u001b[0m \u001b[1m0s\u001b[0m 11ms/step - loss: 163047.2812\n",
            "Epoch 51/500\n",
            "\u001b[1m4/4\u001b[0m \u001b[32m━━━━━━━━━━━━━━━━━━━━\u001b[0m\u001b[37m\u001b[0m \u001b[1m0s\u001b[0m 11ms/step - loss: 160479.6094 \n",
            "Epoch 52/500\n",
            "\u001b[1m4/4\u001b[0m \u001b[32m━━━━━━━━━━━━━━━━━━━━\u001b[0m\u001b[37m\u001b[0m \u001b[1m0s\u001b[0m 11ms/step - loss: 157634.4062 \n",
            "Epoch 53/500\n",
            "\u001b[1m4/4\u001b[0m \u001b[32m━━━━━━━━━━━━━━━━━━━━\u001b[0m\u001b[37m\u001b[0m \u001b[1m0s\u001b[0m 11ms/step - loss: 154970.2500\n",
            "Epoch 54/500\n",
            "\u001b[1m4/4\u001b[0m \u001b[32m━━━━━━━━━━━━━━━━━━━━\u001b[0m\u001b[37m\u001b[0m \u001b[1m0s\u001b[0m 12ms/step - loss: 152858.4844\n",
            "Epoch 55/500\n",
            "\u001b[1m4/4\u001b[0m \u001b[32m━━━━━━━━━━━━━━━━━━━━\u001b[0m\u001b[37m\u001b[0m \u001b[1m0s\u001b[0m 11ms/step - loss: 147933.8594\n",
            "Epoch 56/500\n",
            "\u001b[1m4/4\u001b[0m \u001b[32m━━━━━━━━━━━━━━━━━━━━\u001b[0m\u001b[37m\u001b[0m \u001b[1m0s\u001b[0m 12ms/step - loss: 145770.4219\n",
            "Epoch 57/500\n",
            "\u001b[1m4/4\u001b[0m \u001b[32m━━━━━━━━━━━━━━━━━━━━\u001b[0m\u001b[37m\u001b[0m \u001b[1m0s\u001b[0m 15ms/step - loss: 141215.0938\n",
            "Epoch 58/500\n",
            "\u001b[1m4/4\u001b[0m \u001b[32m━━━━━━━━━━━━━━━━━━━━\u001b[0m\u001b[37m\u001b[0m \u001b[1m0s\u001b[0m 20ms/step - loss: 136968.9375\n",
            "Epoch 59/500\n",
            "\u001b[1m4/4\u001b[0m \u001b[32m━━━━━━━━━━━━━━━━━━━━\u001b[0m\u001b[37m\u001b[0m \u001b[1m0s\u001b[0m 13ms/step - loss: 133526.5938\n",
            "Epoch 60/500\n",
            "\u001b[1m4/4\u001b[0m \u001b[32m━━━━━━━━━━━━━━━━━━━━\u001b[0m\u001b[37m\u001b[0m \u001b[1m0s\u001b[0m 13ms/step - loss: 128182.2656\n",
            "Epoch 61/500\n",
            "\u001b[1m4/4\u001b[0m \u001b[32m━━━━━━━━━━━━━━━━━━━━\u001b[0m\u001b[37m\u001b[0m \u001b[1m0s\u001b[0m 12ms/step - loss: 125260.4766\n",
            "Epoch 62/500\n",
            "\u001b[1m4/4\u001b[0m \u001b[32m━━━━━━━━━━━━━━━━━━━━\u001b[0m\u001b[37m\u001b[0m \u001b[1m0s\u001b[0m 13ms/step - loss: 118537.1875\n",
            "Epoch 63/500\n",
            "\u001b[1m4/4\u001b[0m \u001b[32m━━━━━━━━━━━━━━━━━━━━\u001b[0m\u001b[37m\u001b[0m \u001b[1m0s\u001b[0m 11ms/step - loss: 115166.8359\n",
            "Epoch 64/500\n",
            "\u001b[1m4/4\u001b[0m \u001b[32m━━━━━━━━━━━━━━━━━━━━\u001b[0m\u001b[37m\u001b[0m \u001b[1m0s\u001b[0m 12ms/step - loss: 108067.9297\n",
            "Epoch 65/500\n",
            "\u001b[1m4/4\u001b[0m \u001b[32m━━━━━━━━━━━━━━━━━━━━\u001b[0m\u001b[37m\u001b[0m \u001b[1m0s\u001b[0m 14ms/step - loss: 104506.2109\n",
            "Epoch 66/500\n",
            "\u001b[1m4/4\u001b[0m \u001b[32m━━━━━━━━━━━━━━━━━━━━\u001b[0m\u001b[37m\u001b[0m \u001b[1m0s\u001b[0m 14ms/step - loss: 97204.5469\n",
            "Epoch 67/500\n",
            "\u001b[1m4/4\u001b[0m \u001b[32m━━━━━━━━━━━━━━━━━━━━\u001b[0m\u001b[37m\u001b[0m \u001b[1m0s\u001b[0m 12ms/step - loss: 92914.8125\n",
            "Epoch 68/500\n",
            "\u001b[1m4/4\u001b[0m \u001b[32m━━━━━━━━━━━━━━━━━━━━\u001b[0m\u001b[37m\u001b[0m \u001b[1m0s\u001b[0m 11ms/step - loss: 85394.5938\n",
            "Epoch 69/500\n",
            "\u001b[1m4/4\u001b[0m \u001b[32m━━━━━━━━━━━━━━━━━━━━\u001b[0m\u001b[37m\u001b[0m \u001b[1m0s\u001b[0m 11ms/step - loss: 81769.1406\n",
            "Epoch 70/500\n",
            "\u001b[1m4/4\u001b[0m \u001b[32m━━━━━━━━━━━━━━━━━━━━\u001b[0m\u001b[37m\u001b[0m \u001b[1m0s\u001b[0m 12ms/step - loss: 73355.1016\n",
            "Epoch 71/500\n",
            "\u001b[1m4/4\u001b[0m \u001b[32m━━━━━━━━━━━━━━━━━━━━\u001b[0m\u001b[37m\u001b[0m \u001b[1m0s\u001b[0m 12ms/step - loss: 69948.6172\n",
            "Epoch 72/500\n",
            "\u001b[1m4/4\u001b[0m \u001b[32m━━━━━━━━━━━━━━━━━━━━\u001b[0m\u001b[37m\u001b[0m \u001b[1m0s\u001b[0m 14ms/step - loss: 61905.7266\n",
            "Epoch 73/500\n",
            "\u001b[1m4/4\u001b[0m \u001b[32m━━━━━━━━━━━━━━━━━━━━\u001b[0m\u001b[37m\u001b[0m \u001b[1m0s\u001b[0m 12ms/step - loss: 58989.4180 \n",
            "Epoch 74/500\n",
            "\u001b[1m4/4\u001b[0m \u001b[32m━━━━━━━━━━━━━━━━━━━━\u001b[0m\u001b[37m\u001b[0m \u001b[1m0s\u001b[0m 13ms/step - loss: 51172.2500 \n",
            "Epoch 75/500\n",
            "\u001b[1m4/4\u001b[0m \u001b[32m━━━━━━━━━━━━━━━━━━━━\u001b[0m\u001b[37m\u001b[0m \u001b[1m0s\u001b[0m 14ms/step - loss: 48440.5469\n",
            "Epoch 76/500\n",
            "\u001b[1m4/4\u001b[0m \u001b[32m━━━━━━━━━━━━━━━━━━━━\u001b[0m\u001b[37m\u001b[0m \u001b[1m0s\u001b[0m 21ms/step - loss: 41455.7852 \n",
            "Epoch 77/500\n",
            "\u001b[1m4/4\u001b[0m \u001b[32m━━━━━━━━━━━━━━━━━━━━\u001b[0m\u001b[37m\u001b[0m \u001b[1m0s\u001b[0m 19ms/step - loss: 39905.5742\n",
            "Epoch 78/500\n",
            "\u001b[1m4/4\u001b[0m \u001b[32m━━━━━━━━━━━━━━━━━━━━\u001b[0m\u001b[37m\u001b[0m \u001b[1m0s\u001b[0m 14ms/step - loss: 33244.3789\n",
            "Epoch 79/500\n",
            "\u001b[1m4/4\u001b[0m \u001b[32m━━━━━━━━━━━━━━━━━━━━\u001b[0m\u001b[37m\u001b[0m \u001b[1m0s\u001b[0m 12ms/step - loss: 33433.4102\n",
            "Epoch 80/500\n",
            "\u001b[1m4/4\u001b[0m \u001b[32m━━━━━━━━━━━━━━━━━━━━\u001b[0m\u001b[37m\u001b[0m \u001b[1m0s\u001b[0m 10ms/step - loss: 26742.8770\n",
            "Epoch 81/500\n",
            "\u001b[1m4/4\u001b[0m \u001b[32m━━━━━━━━━━━━━━━━━━━━\u001b[0m\u001b[37m\u001b[0m \u001b[1m0s\u001b[0m 11ms/step - loss: 29019.4297\n",
            "Epoch 82/500\n",
            "\u001b[1m4/4\u001b[0m \u001b[32m━━━━━━━━━━━━━━━━━━━━\u001b[0m\u001b[37m\u001b[0m \u001b[1m0s\u001b[0m 13ms/step - loss: 21982.7422\n",
            "Epoch 83/500\n",
            "\u001b[1m4/4\u001b[0m \u001b[32m━━━━━━━━━━━━━━━━━━━━\u001b[0m\u001b[37m\u001b[0m \u001b[1m0s\u001b[0m 11ms/step - loss: 27162.3008\n",
            "Epoch 84/500\n",
            "\u001b[1m4/4\u001b[0m \u001b[32m━━━━━━━━━━━━━━━━━━━━\u001b[0m\u001b[37m\u001b[0m \u001b[1m0s\u001b[0m 14ms/step - loss: 19251.8691\n",
            "Epoch 85/500\n",
            "\u001b[1m4/4\u001b[0m \u001b[32m━━━━━━━━━━━━━━━━━━━━\u001b[0m\u001b[37m\u001b[0m \u001b[1m0s\u001b[0m 12ms/step - loss: 28608.0801\n",
            "Epoch 86/500\n",
            "\u001b[1m4/4\u001b[0m \u001b[32m━━━━━━━━━━━━━━━━━━━━\u001b[0m\u001b[37m\u001b[0m \u001b[1m0s\u001b[0m 17ms/step - loss: 19383.7773\n",
            "Epoch 87/500\n",
            "\u001b[1m4/4\u001b[0m \u001b[32m━━━━━━━━━━━━━━━━━━━━\u001b[0m\u001b[37m\u001b[0m \u001b[1m0s\u001b[0m 16ms/step - loss: 35300.7695\n",
            "Epoch 88/500\n",
            "\u001b[1m4/4\u001b[0m \u001b[32m━━━━━━━━━━━━━━━━━━━━\u001b[0m\u001b[37m\u001b[0m \u001b[1m0s\u001b[0m 15ms/step - loss: 25991.8027\n",
            "Epoch 89/500\n",
            "\u001b[1m4/4\u001b[0m \u001b[32m━━━━━━━━━━━━━━━━━━━━\u001b[0m\u001b[37m\u001b[0m \u001b[1m0s\u001b[0m 13ms/step - loss: 45851.9961\n",
            "Epoch 90/500\n",
            "\u001b[1m4/4\u001b[0m \u001b[32m━━━━━━━━━━━━━━━━━━━━\u001b[0m\u001b[37m\u001b[0m \u001b[1m0s\u001b[0m 12ms/step - loss: 41196.2695\n",
            "Epoch 91/500\n",
            "\u001b[1m4/4\u001b[0m \u001b[32m━━━━━━━━━━━━━━━━━━━━\u001b[0m\u001b[37m\u001b[0m \u001b[1m0s\u001b[0m 11ms/step - loss: 49519.3477\n",
            "Epoch 92/500\n",
            "\u001b[1m4/4\u001b[0m \u001b[32m━━━━━━━━━━━━━━━━━━━━\u001b[0m\u001b[37m\u001b[0m \u001b[1m0s\u001b[0m 12ms/step - loss: 41402.7500 \n",
            "Epoch 93/500\n",
            "\u001b[1m4/4\u001b[0m \u001b[32m━━━━━━━━━━━━━━━━━━━━\u001b[0m\u001b[37m\u001b[0m \u001b[1m0s\u001b[0m 13ms/step - loss: 28786.7344\n",
            "Epoch 94/500\n",
            "\u001b[1m4/4\u001b[0m \u001b[32m━━━━━━━━━━━━━━━━━━━━\u001b[0m\u001b[37m\u001b[0m \u001b[1m0s\u001b[0m 13ms/step - loss: 18875.4336\n",
            "Epoch 95/500\n",
            "\u001b[1m4/4\u001b[0m \u001b[32m━━━━━━━━━━━━━━━━━━━━\u001b[0m\u001b[37m\u001b[0m \u001b[1m0s\u001b[0m 18ms/step - loss: 15640.0996\n",
            "Epoch 96/500\n",
            "\u001b[1m4/4\u001b[0m \u001b[32m━━━━━━━━━━━━━━━━━━━━\u001b[0m\u001b[37m\u001b[0m \u001b[1m0s\u001b[0m 22ms/step - loss: 14736.3076\n",
            "Epoch 97/500\n",
            "\u001b[1m4/4\u001b[0m \u001b[32m━━━━━━━━━━━━━━━━━━━━\u001b[0m\u001b[37m\u001b[0m \u001b[1m0s\u001b[0m 19ms/step - loss: 13129.7646\n",
            "Epoch 98/500\n",
            "\u001b[1m4/4\u001b[0m \u001b[32m━━━━━━━━━━━━━━━━━━━━\u001b[0m\u001b[37m\u001b[0m \u001b[1m0s\u001b[0m 21ms/step - loss: 14475.7559\n",
            "Epoch 99/500\n",
            "\u001b[1m4/4\u001b[0m \u001b[32m━━━━━━━━━━━━━━━━━━━━\u001b[0m\u001b[37m\u001b[0m \u001b[1m0s\u001b[0m 14ms/step - loss: 12907.7969\n",
            "Epoch 100/500\n",
            "\u001b[1m4/4\u001b[0m \u001b[32m━━━━━━━━━━━━━━━━━━━━\u001b[0m\u001b[37m\u001b[0m \u001b[1m0s\u001b[0m 14ms/step - loss: 14570.7783\n",
            "Epoch 101/500\n",
            "\u001b[1m4/4\u001b[0m \u001b[32m━━━━━━━━━━━━━━━━━━━━\u001b[0m\u001b[37m\u001b[0m \u001b[1m0s\u001b[0m 18ms/step - loss: 12838.8340\n",
            "Epoch 102/500\n",
            "\u001b[1m4/4\u001b[0m \u001b[32m━━━━━━━━━━━━━━━━━━━━\u001b[0m\u001b[37m\u001b[0m \u001b[1m0s\u001b[0m 17ms/step - loss: 14444.1680\n",
            "Epoch 103/500\n",
            "\u001b[1m4/4\u001b[0m \u001b[32m━━━━━━━━━━━━━━━━━━━━\u001b[0m\u001b[37m\u001b[0m \u001b[1m0s\u001b[0m 13ms/step - loss: 12583.4600\n",
            "Epoch 104/500\n",
            "\u001b[1m4/4\u001b[0m \u001b[32m━━━━━━━━━━━━━━━━━━━━\u001b[0m\u001b[37m\u001b[0m \u001b[1m0s\u001b[0m 23ms/step - loss: 13869.2676\n",
            "Epoch 105/500\n",
            "\u001b[1m4/4\u001b[0m \u001b[32m━━━━━━━━━━━━━━━━━━━━\u001b[0m\u001b[37m\u001b[0m \u001b[1m0s\u001b[0m 29ms/step - loss: 12214.5059\n",
            "Epoch 106/500\n",
            "\u001b[1m4/4\u001b[0m \u001b[32m━━━━━━━━━━━━━━━━━━━━\u001b[0m\u001b[37m\u001b[0m \u001b[1m0s\u001b[0m 28ms/step - loss: 13438.4570\n",
            "Epoch 107/500\n",
            "\u001b[1m4/4\u001b[0m \u001b[32m━━━━━━━━━━━━━━━━━━━━\u001b[0m\u001b[37m\u001b[0m \u001b[1m0s\u001b[0m 21ms/step - loss: 11916.3594\n",
            "Epoch 108/500\n",
            "\u001b[1m4/4\u001b[0m \u001b[32m━━━━━━━━━━━━━━━━━━━━\u001b[0m\u001b[37m\u001b[0m \u001b[1m0s\u001b[0m 25ms/step - loss: 13233.1133\n",
            "Epoch 109/500\n",
            "\u001b[1m4/4\u001b[0m \u001b[32m━━━━━━━━━━━━━━━━━━━━\u001b[0m\u001b[37m\u001b[0m \u001b[1m0s\u001b[0m 18ms/step - loss: 11725.6484\n",
            "Epoch 110/500\n",
            "\u001b[1m4/4\u001b[0m \u001b[32m━━━━━━━━━━━━━━━━━━━━\u001b[0m\u001b[37m\u001b[0m \u001b[1m0s\u001b[0m 23ms/step - loss: 12701.1123\n",
            "Epoch 111/500\n",
            "\u001b[1m4/4\u001b[0m \u001b[32m━━━━━━━━━━━━━━━━━━━━\u001b[0m\u001b[37m\u001b[0m \u001b[1m0s\u001b[0m 16ms/step - loss: 11455.3701\n",
            "Epoch 112/500\n",
            "\u001b[1m4/4\u001b[0m \u001b[32m━━━━━━━━━━━━━━━━━━━━\u001b[0m\u001b[37m\u001b[0m \u001b[1m0s\u001b[0m 22ms/step - loss: 12286.8457\n",
            "Epoch 113/500\n",
            "\u001b[1m4/4\u001b[0m \u001b[32m━━━━━━━━━━━━━━━━━━━━\u001b[0m\u001b[37m\u001b[0m \u001b[1m0s\u001b[0m 22ms/step - loss: 11238.2227\n",
            "Epoch 114/500\n",
            "\u001b[1m4/4\u001b[0m \u001b[32m━━━━━━━━━━━━━━━━━━━━\u001b[0m\u001b[37m\u001b[0m \u001b[1m0s\u001b[0m 25ms/step - loss: 11866.7900\n",
            "Epoch 115/500\n",
            "\u001b[1m4/4\u001b[0m \u001b[32m━━━━━━━━━━━━━━━━━━━━\u001b[0m\u001b[37m\u001b[0m \u001b[1m0s\u001b[0m 17ms/step - loss: 11058.1387\n",
            "Epoch 116/500\n",
            "\u001b[1m4/4\u001b[0m \u001b[32m━━━━━━━━━━━━━━━━━━━━\u001b[0m\u001b[37m\u001b[0m \u001b[1m0s\u001b[0m 21ms/step - loss: 11554.2842\n",
            "Epoch 117/500\n",
            "\u001b[1m4/4\u001b[0m \u001b[32m━━━━━━━━━━━━━━━━━━━━\u001b[0m\u001b[37m\u001b[0m \u001b[1m0s\u001b[0m 16ms/step - loss: 10951.3359\n",
            "Epoch 118/500\n",
            "\u001b[1m4/4\u001b[0m \u001b[32m━━━━━━━━━━━━━━━━━━━━\u001b[0m\u001b[37m\u001b[0m \u001b[1m0s\u001b[0m 20ms/step - loss: 11249.0664\n",
            "Epoch 119/500\n",
            "\u001b[1m4/4\u001b[0m \u001b[32m━━━━━━━━━━━━━━━━━━━━\u001b[0m\u001b[37m\u001b[0m \u001b[1m0s\u001b[0m 21ms/step - loss: 10839.1426\n",
            "Epoch 120/500\n",
            "\u001b[1m4/4\u001b[0m \u001b[32m━━━━━━━━━━━━━━━━━━━━\u001b[0m\u001b[37m\u001b[0m \u001b[1m0s\u001b[0m 17ms/step - loss: 11088.8135\n",
            "Epoch 121/500\n",
            "\u001b[1m4/4\u001b[0m \u001b[32m━━━━━━━━━━━━━━━━━━━━\u001b[0m\u001b[37m\u001b[0m \u001b[1m0s\u001b[0m 27ms/step - loss: 10689.5088\n",
            "Epoch 122/500\n",
            "\u001b[1m4/4\u001b[0m \u001b[32m━━━━━━━━━━━━━━━━━━━━\u001b[0m\u001b[37m\u001b[0m \u001b[1m0s\u001b[0m 15ms/step - loss: 11089.7871\n",
            "Epoch 123/500\n",
            "\u001b[1m4/4\u001b[0m \u001b[32m━━━━━━━━━━━━━━━━━━━━\u001b[0m\u001b[37m\u001b[0m \u001b[1m0s\u001b[0m 13ms/step - loss: 10567.4316\n",
            "Epoch 124/500\n",
            "\u001b[1m4/4\u001b[0m \u001b[32m━━━━━━━━━━━━━━━━━━━━\u001b[0m\u001b[37m\u001b[0m \u001b[1m0s\u001b[0m 12ms/step - loss: 11133.1230\n",
            "Epoch 125/500\n",
            "\u001b[1m4/4\u001b[0m \u001b[32m━━━━━━━━━━━━━━━━━━━━\u001b[0m\u001b[37m\u001b[0m \u001b[1m0s\u001b[0m 12ms/step - loss: 10478.8291\n",
            "Epoch 126/500\n",
            "\u001b[1m4/4\u001b[0m \u001b[32m━━━━━━━━━━━━━━━━━━━━\u001b[0m\u001b[37m\u001b[0m \u001b[1m0s\u001b[0m 13ms/step - loss: 11224.4688\n",
            "Epoch 127/500\n",
            "\u001b[1m4/4\u001b[0m \u001b[32m━━━━━━━━━━━━━━━━━━━━\u001b[0m\u001b[37m\u001b[0m \u001b[1m0s\u001b[0m 15ms/step - loss: 10427.2510\n",
            "Epoch 128/500\n",
            "\u001b[1m4/4\u001b[0m \u001b[32m━━━━━━━━━━━━━━━━━━━━\u001b[0m\u001b[37m\u001b[0m \u001b[1m0s\u001b[0m 19ms/step - loss: 11373.1338\n",
            "Epoch 129/500\n",
            "\u001b[1m4/4\u001b[0m \u001b[32m━━━━━━━━━━━━━━━━━━━━\u001b[0m\u001b[37m\u001b[0m \u001b[1m0s\u001b[0m 15ms/step - loss: 10420.2803\n",
            "Epoch 130/500\n",
            "\u001b[1m4/4\u001b[0m \u001b[32m━━━━━━━━━━━━━━━━━━━━\u001b[0m\u001b[37m\u001b[0m \u001b[1m0s\u001b[0m 13ms/step - loss: 11752.9482\n",
            "Epoch 131/500\n",
            "\u001b[1m4/4\u001b[0m \u001b[32m━━━━━━━━━━━━━━━━━━━━\u001b[0m\u001b[37m\u001b[0m \u001b[1m0s\u001b[0m 19ms/step - loss: 10500.7139\n",
            "Epoch 132/500\n",
            "\u001b[1m4/4\u001b[0m \u001b[32m━━━━━━━━━━━━━━━━━━━━\u001b[0m\u001b[37m\u001b[0m \u001b[1m0s\u001b[0m 13ms/step - loss: 12466.0645\n",
            "Epoch 133/500\n",
            "\u001b[1m4/4\u001b[0m \u001b[32m━━━━━━━━━━━━━━━━━━━━\u001b[0m\u001b[37m\u001b[0m \u001b[1m0s\u001b[0m 13ms/step - loss: 10912.3369\n",
            "Epoch 134/500\n",
            "\u001b[1m4/4\u001b[0m \u001b[32m━━━━━━━━━━━━━━━━━━━━\u001b[0m\u001b[37m\u001b[0m \u001b[1m0s\u001b[0m 12ms/step - loss: 14295.1846\n",
            "Epoch 135/500\n",
            "\u001b[1m4/4\u001b[0m \u001b[32m━━━━━━━━━━━━━━━━━━━━\u001b[0m\u001b[37m\u001b[0m \u001b[1m0s\u001b[0m 12ms/step - loss: 12139.9756\n",
            "Epoch 136/500\n",
            "\u001b[1m4/4\u001b[0m \u001b[32m━━━━━━━━━━━━━━━━━━━━\u001b[0m\u001b[37m\u001b[0m \u001b[1m0s\u001b[0m 14ms/step - loss: 16190.0947\n",
            "Epoch 137/500\n",
            "\u001b[1m4/4\u001b[0m \u001b[32m━━━━━━━━━━━━━━━━━━━━\u001b[0m\u001b[37m\u001b[0m \u001b[1m0s\u001b[0m 22ms/step - loss: 13678.1123\n"
          ]
        }
      ]
    },
    {
      "cell_type": "code",
      "source": [
        "y_test, y_pred.reshape(4,5)"
      ],
      "metadata": {
        "id": "cLu9fzay9q40",
        "outputId": "b60e59bd-94b0-4907-abbb-017bf4772f1a",
        "colab": {
          "base_uri": "https://localhost:8080/"
        }
      },
      "execution_count": 65,
      "outputs": [
        {
          "output_type": "execute_result",
          "data": {
            "text/plain": [
              "(array([ 700.68004164,  755.75247979, 1113.3710238 ,  701.83961013,\n",
              "         871.39286158,  996.71901086,  917.63300905, 1515.65209548,\n",
              "         947.86458027, 1362.4918159 ,  235.4040078 ,  601.70720431,\n",
              "        1073.90558668,  907.74461013,  522.3314052 , 1600.0428862 ,\n",
              "         644.35951398, 1351.22817984, 1459.69863262, 1111.72499446]),\n",
              " array([[ 103.50378, 1494.6589 ,  249.25717,  175.07167,  132.16429],\n",
              "        [ 143.37398,  636.20215, 1602.0487 ,  637.5282 ,  946.26556],\n",
              "        [ 190.95454,  789.0621 ,  206.45058,  988.81036,  487.53998],\n",
              "        [1623.8231 ,   81.94916, 1671.9711 , 1635.4885 , 1175.6425 ]],\n",
              "       dtype=float32))"
            ]
          },
          "metadata": {},
          "execution_count": 65
        }
      ]
    },
    {
      "cell_type": "code",
      "source": [
        "# Predicting house prices\n",
        "y_pred = model.predict(x_test)\n",
        "\n",
        "# Function to plot predictions\n",
        "def plot_predictions(y_test, y_pred):\n",
        "    plt.figure(figsize=(10, 6))\n",
        "    plt.scatter(range(len(y_test)), y_test, color=\"blue\", label=\"Actual Prices\")\n",
        "    plt.scatter(range(len(y_pred)), y_pred, color=\"red\", label=\"Predicted Prices\")\n",
        "    plt.legend()\n",
        "    plt.xlabel(\"House Index\")\n",
        "    plt.ylabel(\"Price ($1000s)\")\n",
        "    plt.title(\"Actual vs Predicted House Prices\")\n",
        "    plt.show()\n",
        "\n",
        "plot_predictions(y_test, y_pred)\n"
      ],
      "metadata": {
        "id": "Zf9h4p369P8m",
        "outputId": "f5d77bbf-cf51-4366-8283-bbd79874d8e7",
        "colab": {
          "base_uri": "https://localhost:8080/",
          "height": 620
        }
      },
      "execution_count": 66,
      "outputs": [
        {
          "output_type": "stream",
          "name": "stderr",
          "text": [
            "WARNING:tensorflow:5 out of the last 9 calls to <function TensorFlowTrainer.make_predict_function.<locals>.one_step_on_data_distributed at 0x7a7f326aa200> triggered tf.function retracing. Tracing is expensive and the excessive number of tracings could be due to (1) creating @tf.function repeatedly in a loop, (2) passing tensors with different shapes, (3) passing Python objects instead of tensors. For (1), please define your @tf.function outside of the loop. For (2), @tf.function has reduce_retracing=True option that can avoid unnecessary retracing. For (3), please refer to https://www.tensorflow.org/guide/function#controlling_retracing and https://www.tensorflow.org/api_docs/python/tf/function for  more details.\n"
          ]
        },
        {
          "output_type": "stream",
          "name": "stdout",
          "text": [
            "\u001b[1m1/1\u001b[0m \u001b[32m━━━━━━━━━━━━━━━━━━━━\u001b[0m\u001b[37m\u001b[0m \u001b[1m0s\u001b[0m 95ms/step\n"
          ]
        },
        {
          "output_type": "display_data",
          "data": {
            "text/plain": [
              "<Figure size 1000x600 with 1 Axes>"
            ],
            "image/png": "[encoded data removed]"
          },
          "metadata": {}
        }
      ]
    },
    {
      "cell_type": "code",
      "source": [
        "# Actual prices (ground truth)\n",
        "actual_prices = y_test\n",
        "actual_prices"
      ],
      "metadata": {
        "id": "nzhjnj6eCTLQ",
        "outputId": "d67d1963-87c1-4e80-f06d-c09a1a773c42",
        "colab": {
          "base_uri": "https://localhost:8080/"
        }
      },
      "execution_count": 67,
      "outputs": [
        {
          "output_type": "execute_result",
          "data": {
            "text/plain": [
              "array([ 700.68004164,  755.75247979, 1113.3710238 ,  701.83961013,\n",
              "        871.39286158,  996.71901086,  917.63300905, 1515.65209548,\n",
              "        947.86458027, 1362.4918159 ,  235.4040078 ,  601.70720431,\n",
              "       1073.90558668,  907.74461013,  522.3314052 , 1600.0428862 ,\n",
              "        644.35951398, 1351.22817984, 1459.69863262, 1111.72499446])"
            ]
          },
          "metadata": {},
          "execution_count": 67
        }
      ]
    },
    {
      "cell_type": "code",
      "source": [
        "# Predicted prices\n",
        "predicted_prices = model.predict(x_test)\n",
        "predicted_prices\n"
      ],
      "metadata": {
        "id": "7pgRAQZaCV9l",
        "outputId": "613cf840-5cad-40cd-b234-e3289efb7f69",
        "colab": {
          "base_uri": "https://localhost:8080/"
        }
      },
      "execution_count": 68,
      "outputs": [
        {
          "output_type": "stream",
          "name": "stdout",
          "text": [
            "\u001b[1m1/1\u001b[0m \u001b[32m━━━━━━━━━━━━━━━━━━━━\u001b[0m\u001b[37m\u001b[0m \u001b[1m0s\u001b[0m 49ms/step\n"
          ]
        },
        {
          "output_type": "execute_result",
          "data": {
            "text/plain": [
              "array([[ 618.3728 ],\n",
              "       [ 940.1384 ],\n",
              "       [ 887.039  ],\n",
              "       [ 783.0949 ],\n",
              "       [ 922.7366 ],\n",
              "       [1020.6887 ],\n",
              "       [1157.5165 ],\n",
              "       [1685.6454 ],\n",
              "       [1066.3136 ],\n",
              "       [1396.2612 ],\n",
              "       [ 267.4238 ],\n",
              "       [ 550.08813],\n",
              "       [ 956.3116 ],\n",
              "       [1059.8793 ],\n",
              "       [ 672.4225 ],\n",
              "       [1682.3453 ],\n",
              "       [ 756.17914],\n",
              "       [1350.4407 ],\n",
              "       [1494.5187 ],\n",
              "       [1263.6265 ]], dtype=float32)"
            ]
          },
          "metadata": {},
          "execution_count": 68
        }
      ]
    },
    {
      "cell_type": "code",
      "source": [
        "import pandas as pd\n",
        "# Combine actual and predicted prices into a DataFrame\n",
        "comaprison =pd.DataFrame({'Actual Price': actual_prices.flatten(), 'Predicted Price': predicted_prices.flatten() })\n",
        "#Display the comparison\n",
        "print(comaprison.head())\n"
      ],
      "metadata": {
        "id": "VAoBJ1IoBaBZ",
        "outputId": "bf41d331-bc2e-4972-b338-f58857a64deb",
        "colab": {
          "base_uri": "https://localhost:8080/"
        }
      },
      "execution_count": 69,
      "outputs": [
        {
          "output_type": "stream",
          "name": "stdout",
          "text": [
            "   Actual Price  Predicted Price\n",
            "0    700.680042       618.372803\n",
            "1    755.752480       940.138428\n",
            "2   1113.371024       887.039001\n",
            "3    701.839610       783.094910\n",
            "4    871.392862       922.736572\n"
          ]
        }
      ]
    },
    {
      "cell_type": "code",
      "source": [],
      "metadata": {
        "id": "FBEOMZcdCaBK"
      },
      "execution_count": null,
      "outputs": []
    }
  ]
}